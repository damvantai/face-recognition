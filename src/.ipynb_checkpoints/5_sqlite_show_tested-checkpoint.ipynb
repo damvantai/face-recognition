{
 "cells": [
  {
   "cell_type": "code",
   "execution_count": 6,
   "metadata": {},
   "outputs": [],
   "source": [
    "import sqlite3"
   ]
  },
  {
   "cell_type": "code",
   "execution_count": 7,
   "metadata": {},
   "outputs": [],
   "source": [
    "people = sqlite3.connect('../data/people.db')\n",
    "c = people.cursor()"
   ]
  },
  {
   "cell_type": "code",
   "execution_count": null,
   "metadata": {},
   "outputs": [],
   "source": []
  },
  {
   "cell_type": "code",
   "execution_count": 8,
   "metadata": {},
   "outputs": [],
   "source": [
    "# trich suat du lieu\n",
    "# name = \"unknown_0\"\n",
    "# c.execute(\"select * from people_unknown where name = '%s'\" % name)\n",
    "# name, gender, age = c.fetchone()"
   ]
  },
  {
   "cell_type": "code",
   "execution_count": 9,
   "metadata": {},
   "outputs": [
    {
     "data": {
      "text/plain": [
       "<sqlite3.Cursor at 0x7f3f005ef5e0>"
      ]
     },
     "execution_count": 9,
     "metadata": {},
     "output_type": "execute_result"
    }
   ],
   "source": [
    "# Create table\n",
    "c.execute('''CREATE TABLE people_known\n",
    "(name text unique, gender bit, old integer)''')\n",
    "# Create table\n",
    "c.execute('''CREATE TABLE people_unknown\n",
    "(name text unique, gender bit, old integer)''')\n",
    "# Create table\n",
    "c.execute('''CREATE TABLE people_inroom\n",
    "(name text unique, gender bit, old integer)''')"
   ]
  },
  {
   "cell_type": "code",
   "execution_count": 10,
   "metadata": {},
   "outputs": [
    {
     "data": {
      "text/plain": [
       "<sqlite3.Cursor at 0x7f3f005ef5e0>"
      ]
     },
     "execution_count": 10,
     "metadata": {},
     "output_type": "execute_result"
    }
   ],
   "source": [
    "# c.execute(\"insert into people_known values ('Dam Van Tai', 0, 24)\")\n",
    "c.execute(\"insert into people_known values ('Pham Van Tuan', 1, 37)\")\n",
    "c.execute(\"insert into people_known values ('Doan Van Dung', 1, 30)\")\n",
    "c.execute(\"insert into people_known values ('Tong Thi Thuy', 0, 32)\")\n",
    "c.execute(\"insert into people_known values ('Sakiyama', 1, 35)\")\n",
    "c.execute(\"insert into people_known values ('Dam Van Tai', 1, 24)\")\n"
   ]
  },
  {
   "cell_type": "code",
   "execution_count": 11,
   "metadata": {},
   "outputs": [],
   "source": [
    "people.commit()"
   ]
  },
  {
   "cell_type": "code",
   "execution_count": 12,
   "metadata": {},
   "outputs": [
    {
     "name": "stdout",
     "output_type": "stream",
     "text": [
      "('Dam Van Tai', 1, 24)\n",
      "('Doan Van Dung', 1, 30)\n",
      "('Tong Thi Thuy', 0, 32)\n",
      "('Sakiyama', 1, 35)\n",
      "('Pham Van Tuan', 1, 37)\n"
     ]
    }
   ],
   "source": [
    "# show name people know name\n",
    "for row in c.execute('select * from people_known order by old'):\n",
    "    print(row)"
   ]
  },
  {
   "cell_type": "code",
   "execution_count": 13,
   "metadata": {},
   "outputs": [],
   "source": [
    "for row in c.execute('select * from people_inroom order by old'):\n",
    "    print(row)"
   ]
  },
  {
   "cell_type": "code",
   "execution_count": 14,
   "metadata": {},
   "outputs": [],
   "source": [
    "for row in c.execute('select * from people_unknown order by old'):\n",
    "    print(row)"
   ]
  },
  {
   "cell_type": "code",
   "execution_count": 15,
   "metadata": {},
   "outputs": [],
   "source": [
    "people.close()"
   ]
  }
 ],
 "metadata": {
  "kernelspec": {
   "display_name": "Python 3",
   "language": "python",
   "name": "python3"
  },
  "language_info": {
   "codemirror_mode": {
    "name": "ipython",
    "version": 3
   },
   "file_extension": ".py",
   "mimetype": "text/x-python",
   "name": "python",
   "nbconvert_exporter": "python",
   "pygments_lexer": "ipython3",
   "version": "3.6.7"
  }
 },
 "nbformat": 4,
 "nbformat_minor": 2
}
